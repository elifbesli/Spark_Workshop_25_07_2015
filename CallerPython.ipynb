{
 "cells": [
  {
   "cell_type": "code",
   "execution_count": null,
   "metadata": {
    "collapsed": true
   },
   "outputs": [],
   "source": [
    "from pyspark import SparkContext\n",
    "import datetime"
   ]
  },
  {
   "cell_type": "code",
   "execution_count": null,
   "metadata": {
    "collapsed": false
   },
   "outputs": [],
   "source": [
    "sc = SparkContext()"
   ]
  },
  {
   "cell_type": "code",
   "execution_count": null,
   "metadata": {
    "collapsed": false
   },
   "outputs": [],
   "source": [
    "callRDD = sc.textFile(\"samplecalldata.txt\",4)"
   ]
  },
  {
   "cell_type": "code",
   "execution_count": null,
   "metadata": {
    "collapsed": false
   },
   "outputs": [],
   "source": [
    "print (callRDD.count())"
   ]
  },
  {
   "cell_type": "code",
   "execution_count": null,
   "metadata": {
    "collapsed": false
   },
   "outputs": [],
   "source": [
    "def parseDate(s):\n",
    "    # 2015-04-01 07:14:35.553\n",
    "    return datetime.datetime(int(s[0:4]),\n",
    "                             int(s[5:7]),\n",
    "                             int(s[8:10]),\n",
    "                             int(s[11:13]),\n",
    "                             int(s[14:16]),\n",
    "                             int(s[17:19]),\n",
    "                             int(s[20:23])*1000)\n",
    "def parseCallLine(line):\n",
    "    ret=line.split(\"|\")\n",
    "    ret[0]=parseDate(ret[0])\n",
    "    ret[1]=parseDate(ret[1])\n",
    "    return ret\n",
    "print (parseDate(\"2015-04-01 07:14:35.553\"))\n",
    "print (parseCallLine(\"2015-04-01 07:14:35.553|2015-04-01 07:14:36.323|128016310|128478697|8|null\"))"
   ]
  },
  {
   "cell_type": "code",
   "execution_count": null,
   "metadata": {
    "collapsed": false
   },
   "outputs": [],
   "source": [
    "parsedCallRDD = callRDD.map(parseCallLine)"
   ]
  },
  {
   "cell_type": "code",
   "execution_count": null,
   "metadata": {
    "collapsed": false
   },
   "outputs": [],
   "source": [
    "print (parsedCallRDD.take(5))"
   ]
  },
  {
   "cell_type": "code",
   "execution_count": null,
   "metadata": {
    "collapsed": false
   },
   "outputs": [],
   "source": [
    "callSuccessRDD=parsedCallRDD.filter(lambda x:x[5]!= \"null\").cache()\n",
    "print (callSuccessRDD.count())\n",
    "print (callSuccessRDD.take(5))"
   ]
  },
  {
   "cell_type": "code",
   "execution_count": null,
   "metadata": {
    "collapsed": false
   },
   "outputs": [],
   "source": [
    "#Yukaridaki ayni işlemleri basarisiz olmuslar icin tekrarlayalim.\n",
    "callFailedRDD=parsedRDD.\n",
    "print (callFailedRDD.count())\n",
    "print (callFailedRDD.take(5))"
   ]
  },
  {
   "cell_type": "code",
   "execution_count": null,
   "metadata": {
    "collapsed": false
   },
   "outputs": [],
   "source": [
    "#Aranan kisi bilgisi 4. sırada tutuluyor.\n",
    "callersRDD=callSuccessRDD.map(lambda a:(a[3],1))\n",
    "print (callersRDD.reduceByKey(lambda a,b:a+b).takeOrdered(10,lambda a:a[1]*-1))"
   ]
  },
  {
   "cell_type": "code",
   "execution_count": null,
   "metadata": {
    "collapsed": false
   },
   "outputs": [],
   "source": [
    "#Aranan kisi bilgisi 3. sırada tutuluyor. Yukaridaki ayni işlemleri aranan kisi icin tekrarlayalim.\n",
    "callingRDD=callSuccessRDD."
   ]
  },
  {
   "cell_type": "code",
   "execution_count": null,
   "metadata": {
    "collapsed": false
   },
   "outputs": [],
   "source": [
    "#en cok arayan id 130018461\n",
    "mostCallerRDD=callSuccessRDD.filter(lambda k:k[3]==\"130018461\").cache()\n",
    "mostCallerRDD.take(5)"
   ]
  },
  {
   "cell_type": "code",
   "execution_count": null,
   "metadata": {
    "collapsed": false
   },
   "outputs": [],
   "source": [
    "# en uzun gorusme suresini bulalim\n",
    "maxDurationRDD = callSuccessRDD.map(lambda x:(x[5],x[3])).cache()                             \n",
    "print (maxDurationRDD.takeOrdered(1,lambda s:s[0]*-1))"
   ]
  },
  {
   "cell_type": "code",
   "execution_count": null,
   "metadata": {
    "collapsed": true
   },
   "outputs": [],
   "source": [
    "# en kisa gorusme suresini bulalim\n",
    "minDurationRDD = callSuccessRDD.                        \n",
    "print (minDurationRDD.)"
   ]
  },
  {
   "cell_type": "code",
   "execution_count": null,
   "metadata": {
    "collapsed": true
   },
   "outputs": [],
   "source": [
    "locRDD = sc.textFile(\"subscriberlocation.txt\",4)"
   ]
  },
  {
   "cell_type": "code",
   "execution_count": null,
   "metadata": {
    "collapsed": false
   },
   "outputs": [],
   "source": [
    "def parseLocData(s):\n",
    "    #fonksiyonu sil\n",
    "    return s.split(\"|\")\n",
    "parsedLocRDD = locRDD.map(parseLocData).cache()\n",
    "print (parsedLocRDD.take(5))"
   ]
  },
  {
   "cell_type": "code",
   "execution_count": null,
   "metadata": {
    "collapsed": false
   },
   "outputs": [],
   "source": [
    "print (parsedLocRDD.take(5))\n",
    "print (callSuccessRDD.take(5))"
   ]
  },
  {
   "cell_type": "code",
   "execution_count": null,
   "metadata": {
    "collapsed": false
   },
   "outputs": [],
   "source": [
    "callingEditedRDD=callSuccessRDD.map(lambda a:(a[3],float(a[5])))\n",
    "callingJoinedRDD=callingEditedRDD.join(parsedLocRDD).cache()\n",
    "callingJoinedRDD.take(5)"
   ]
  },
  {
   "cell_type": "code",
   "execution_count": null,
   "metadata": {
    "collapsed": false
   },
   "outputs": [],
   "source": [
    "callingJoinedRDD.takeOrdered(5,lambda s:s[1][0]*-1)"
   ]
  },
  {
   "cell_type": "code",
   "execution_count": null,
   "metadata": {
    "collapsed": false
   },
   "outputs": [],
   "source": [
    "callingJoinedRDD.count()"
   ]
  },
  {
   "cell_type": "code",
   "execution_count": 27,
   "metadata": {
    "collapsed": false
   },
   "outputs": [],
   "source": [
    "callingLastRDD=callingJoinedRDD.map(lambda a:a[1][1]).cache()\n",
    "graphRDD=callingLastRDD.map(lambda x:(x,1)).reduceByKey(lambda a,b:a+b)"
   ]
  }
 ],
 "metadata": {
  "kernelspec": {
   "display_name": "Python 3",
   "language": "python",
   "name": "python3"
  },
  "language_info": {
   "codemirror_mode": {
    "name": "ipython",
    "version": 3
   },
   "file_extension": ".py",
   "mimetype": "text/x-python",
   "name": "python",
   "nbconvert_exporter": "python",
   "pygments_lexer": "ipython3",
   "version": "3.4.3"
  }
 },
 "nbformat": 4,
 "nbformat_minor": 0
}
