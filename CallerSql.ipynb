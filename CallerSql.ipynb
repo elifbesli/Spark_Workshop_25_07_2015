{
 "cells": [
  {
   "cell_type": "code",
   "execution_count": 1,
   "metadata": {
    "collapsed": false
   },
   "outputs": [],
   "source": [
    "from pyspark import SparkContext\n",
    "from pyspark.sql import SQLContext, Row\n",
    "import datetime\n",
    "sc = SparkContext()\n",
    "sqlContext = SQLContext(sc)"
   ]
  },
  {
   "cell_type": "code",
   "execution_count": 2,
   "metadata": {
    "collapsed": false
   },
   "outputs": [],
   "source": [
    "def parseDate(s):\n",
    "    # 2015-04-01 07:14:35.553\n",
    "    return datetime.datetime(int(s[0:4]),\n",
    "                             int(s[5:7]),\n",
    "                             int(s[8:10]),\n",
    "                             int(s[11:13]),\n",
    "                             int(s[14:16]),\n",
    "                             int(s[17:19]),\n",
    "                             int(s[20:23])*1000)"
   ]
  },
  {
   "cell_type": "code",
   "execution_count": 7,
   "metadata": {
    "collapsed": false
   },
   "outputs": [],
   "source": [
    "callList = sc.textFile(\"samplecalldata.txt\")\n",
    "callParts = callList.map(lambda l: l.split(\"|\"))\n",
    "callPartsFiltered=callParts.filter(lambda a:a[5]!='null')\n",
    "callData = callPartsFiltered.map(lambda p: Row(startdate=parseDate(p[0]), \n",
    "                                   enddate=parseDate(p[1]),\n",
    "                                   callingid=p[2],\n",
    "                                   callerid=p[3],\n",
    "                                   ignore=p[4],\n",
    "                                   duration=float(p[5])))\n",
    "\n",
    "schemaAll = sqlContext.createDataFrame(callData)\n",
    "schemaAll.registerTempTable(\"calldata\")"
   ]
  },
  {
   "cell_type": "code",
   "execution_count": 8,
   "metadata": {
    "collapsed": false
   },
   "outputs": [
    {
     "name": "stdout",
     "output_type": "stream",
     "text": [
      "[Row(callerid='115129411', callingid='108314025', duration=21.675, enddate=datetime.datetime(2015, 4, 1, 6, 44, 14, 56000), ignore='16', startdate=datetime.datetime(2015, 4, 1, 6, 43, 29, 935000)), Row(callerid='115129411', callingid='108314025', duration=22.299, enddate=datetime.datetime(2015, 4, 1, 6, 44, 14, 145000), ignore='16', startdate=datetime.datetime(2015, 4, 1, 6, 43, 39, 833000)), Row(callerid='115129411', callingid='94458575', duration=5.642, enddate=datetime.datetime(2015, 4, 1, 6, 20, 12, 756000), ignore='16', startdate=datetime.datetime(2015, 4, 1, 6, 19, 49, 388000)), Row(callerid='115129411', callingid='115131225', duration=8.18, enddate=datetime.datetime(2015, 4, 1, 7, 2, 6, 996000), ignore='16', startdate=datetime.datetime(2015, 4, 1, 7, 1, 41, 4000)), Row(callerid='115129411', callingid='115131225', duration=7.64, enddate=datetime.datetime(2015, 4, 1, 7, 2, 6, 866000), ignore='16', startdate=datetime.datetime(2015, 4, 1, 7, 1, 40, 366000)), Row(callerid='115129411', callingid='17919341', duration=13.955, enddate=datetime.datetime(2015, 4, 1, 6, 42, 12, 911000), ignore='16', startdate=datetime.datetime(2015, 4, 1, 6, 41, 46, 229000)), Row(callerid='111553093', callingid='120036627', duration=52.092, enddate=datetime.datetime(2015, 4, 1, 0, 3, 38, 985000), ignore='16', startdate=datetime.datetime(2015, 4, 1, 0, 2, 36, 775000)), Row(callerid='111553093', callingid='120036627', duration=52.76, enddate=datetime.datetime(2015, 4, 1, 0, 3, 39, 603000), ignore='16', startdate=datetime.datetime(2015, 4, 1, 0, 2, 38, 168000)), Row(callerid='111553093', callingid='120036627', duration=38.081, enddate=datetime.datetime(2015, 4, 1, 0, 23, 37, 95000), ignore='16', startdate=datetime.datetime(2015, 4, 1, 0, 22, 52, 85000)), Row(callerid='111553093', callingid='120036627', duration=38.66, enddate=datetime.datetime(2015, 4, 1, 0, 23, 37, 888000), ignore='16', startdate=datetime.datetime(2015, 4, 1, 0, 22, 53, 487000))]\n"
     ]
    }
   ],
   "source": [
    "callerLimitedRDD = sqlContext.sql(\"SELECT * FROM calldata limit 10\")\n",
    "print (callerLimitedRDD.collect())"
   ]
  },
  {
   "cell_type": "code",
   "execution_count": 9,
   "metadata": {
    "collapsed": false
   },
   "outputs": [
    {
     "name": "stdout",
     "output_type": "stream",
     "text": [
      "[Row(callerid='120839579', callingid='118784385', duration=13340.302, enddate=datetime.datetime(2015, 4, 1, 4, 52, 41, 139000), ignore='16', startdate=datetime.datetime(2015, 4, 1, 1, 6, 6, 631000)), Row(callerid='126298287', callingid='40474532', duration=8663.86, enddate=datetime.datetime(2015, 4, 1, 0, 54, 11, 249000), ignore='16', startdate=datetime.datetime(2015, 3, 31, 23, 34, 24, 284000)), Row(callerid='53268699', callingid='128474306', duration=8038.379, enddate=datetime.datetime(2015, 4, 1, 2, 43, 2, 102000), ignore='16', startdate=datetime.datetime(2015, 4, 1, 0, 59, 8, 366000)), Row(callerid='124065798', callingid='85950285', duration=7678.295999999999, enddate=datetime.datetime(2015, 4, 1, 2, 2, 17, 15000), ignore='127', startdate=datetime.datetime(2015, 4, 1, 0, 0, 50, 318000)), Row(callerid='111741397', callingid='128596125', duration=7499.612, enddate=datetime.datetime(2015, 4, 1, 2, 28, 43, 156000), ignore='31', startdate=datetime.datetime(2015, 4, 1, 0, 23, 32, 672000)), Row(callerid='82322503', callingid='14491756', duration=7499.61, enddate=datetime.datetime(2015, 4, 1, 1, 20, 4, 109000), ignore='31', startdate=datetime.datetime(2015, 3, 31, 23, 14, 45, 746000)), Row(callerid='132038983', callingid='38511911', duration=7499.19, enddate=datetime.datetime(2015, 4, 1, 0, 22, 14, 898000), ignore='31', startdate=datetime.datetime(2015, 3, 31, 22, 16, 57, 702000)), Row(callerid='8293251', callingid='90375171', duration=7497.798, enddate=datetime.datetime(2015, 4, 1, 3, 59, 59, 686000), ignore='31', startdate=datetime.datetime(2015, 4, 1, 1, 54, 51, 403000)), Row(callerid='13778328', callingid='117050678', duration=7494.903999999999, enddate=datetime.datetime(2015, 4, 1, 7, 45, 2, 204000), ignore='127', startdate=datetime.datetime(2015, 4, 1, 5, 39, 50, 372000)), Row(callerid='86798079', callingid='100553989', duration=7494.894, enddate=datetime.datetime(2015, 4, 1, 2, 1, 23, 62000), ignore='31', startdate=datetime.datetime(2015, 3, 31, 23, 55, 42, 91000))]\n"
     ]
    }
   ],
   "source": [
    "callOrderedRDD = sqlContext.sql(\"SELECT * FROM calldata order by duration desc\")\n",
    "print (callOrderedRDD.take(10))"
   ]
  },
  {
   "cell_type": "code",
   "execution_count": 10,
   "metadata": {
    "collapsed": false
   },
   "outputs": [
    {
     "name": "stdout",
     "output_type": "stream",
     "text": [
      "[]\n"
     ]
    }
   ],
   "source": [
    "callerFilteredRDD = sqlContext.sql(\"SELECT max(duration),callerid FROM calldata where duration <> 'null' group by callerid\")\n",
    "print (callerFilteredRDD.take(10))"
   ]
  },
  {
   "cell_type": "code",
   "execution_count": 11,
   "metadata": {
    "collapsed": false
   },
   "outputs": [
    {
     "name": "stdout",
     "output_type": "stream",
     "text": [
      "[Row(callerid='115129411', callingid='108314025', duration=21.675, enddate=datetime.datetime(2015, 4, 1, 6, 44, 14, 56000), ignore='16', startdate=datetime.datetime(2015, 4, 1, 6, 43, 29, 935000)), Row(callerid='115129411', callingid='108314025', duration=22.299, enddate=datetime.datetime(2015, 4, 1, 6, 44, 14, 145000), ignore='16', startdate=datetime.datetime(2015, 4, 1, 6, 43, 39, 833000)), Row(callerid='115129411', callingid='94458575', duration=5.642, enddate=datetime.datetime(2015, 4, 1, 6, 20, 12, 756000), ignore='16', startdate=datetime.datetime(2015, 4, 1, 6, 19, 49, 388000)), Row(callerid='115129411', callingid='115131225', duration=8.18, enddate=datetime.datetime(2015, 4, 1, 7, 2, 6, 996000), ignore='16', startdate=datetime.datetime(2015, 4, 1, 7, 1, 41, 4000)), Row(callerid='115129411', callingid='115131225', duration=7.64, enddate=datetime.datetime(2015, 4, 1, 7, 2, 6, 866000), ignore='16', startdate=datetime.datetime(2015, 4, 1, 7, 1, 40, 366000)), Row(callerid='115129411', callingid='17919341', duration=13.955, enddate=datetime.datetime(2015, 4, 1, 6, 42, 12, 911000), ignore='16', startdate=datetime.datetime(2015, 4, 1, 6, 41, 46, 229000)), Row(callerid='111553093', callingid='120036627', duration=52.092, enddate=datetime.datetime(2015, 4, 1, 0, 3, 38, 985000), ignore='16', startdate=datetime.datetime(2015, 4, 1, 0, 2, 36, 775000)), Row(callerid='111553093', callingid='120036627', duration=52.76, enddate=datetime.datetime(2015, 4, 1, 0, 3, 39, 603000), ignore='16', startdate=datetime.datetime(2015, 4, 1, 0, 2, 38, 168000)), Row(callerid='111553093', callingid='120036627', duration=38.081, enddate=datetime.datetime(2015, 4, 1, 0, 23, 37, 95000), ignore='16', startdate=datetime.datetime(2015, 4, 1, 0, 22, 52, 85000)), Row(callerid='111553093', callingid='120036627', duration=38.66, enddate=datetime.datetime(2015, 4, 1, 0, 23, 37, 888000), ignore='16', startdate=datetime.datetime(2015, 4, 1, 0, 22, 53, 487000))]\n"
     ]
    }
   ],
   "source": [
    "callerDateRDD = sqlContext.sql(\"SELECT * FROM calldata where enddate between '01.04.2015' and '02.04.2015' limit 10\")\n",
    "print (callerLimitedRDD.collect())"
   ]
  },
  {
   "cell_type": "code",
   "execution_count": 17,
   "metadata": {
    "collapsed": false
   },
   "outputs": [],
   "source": [
    "locList = sc.textFile(\"subscriberlocation.txt\")\n",
    "locParts = locList.map(lambda l: l.split(\"|\"))\n",
    "locData = locParts.map(lambda p: Row(callid=p[0], \n",
    "                                   city=p[1]))\n",
    "\n",
    "schemaAll = sqlContext.createDataFrame(locData)\n",
    "schemaAll.registerTempTable(\"locdata\")"
   ]
  },
  {
   "cell_type": "code",
   "execution_count": 18,
   "metadata": {
    "collapsed": false
   },
   "outputs": [
    {
     "name": "stdout",
     "output_type": "stream",
     "text": [
      "[Row(callerid='123826198', callingid='42792148', duration=7480.249, enddate=datetime.datetime(2015, 4, 1, 1, 48, 36, 203000), ignore='null', startdate=datetime.datetime(2015, 3, 31, 23, 43, 24, 186000), callid='123826198', city='ISTANBUL'), Row(callerid='109265159', callingid='100915903', duration=7477.274, enddate=datetime.datetime(2015, 4, 1, 4, 35, 59, 84000), ignore='31', startdate=datetime.datetime(2015, 4, 1, 2, 31, 5, 384000), callid='109265159', city='KIRKLARELI'), Row(callerid='129193118', callingid='118862119', duration=7466.462, enddate=datetime.datetime(2015, 4, 1, 4, 11, 11, 805000), ignore='31', startdate=datetime.datetime(2015, 4, 1, 2, 6, 31, 319000), callid='129193118', city='ISTANBUL'), Row(callerid='46008428', callingid='107795615', duration=7461.854, enddate=datetime.datetime(2015, 4, 1, 2, 36, 23, 518000), ignore='null', startdate=datetime.datetime(2015, 4, 1, 0, 31, 44, 184000), callid='46008428', city='ISTANBUL'), Row(callerid='11696019', callingid='131529841', duration=7459.525, enddate=datetime.datetime(2015, 4, 1, 0, 57, 38, 999000), ignore='31', startdate=datetime.datetime(2015, 3, 31, 22, 52, 58, 204000), callid='11696019', city='KARS')]\n"
     ]
    }
   ],
   "source": [
    "joinedRDD = sqlContext.sql(\"SELECT * FROM calldata a join locdata b ON (a.callerid=b.callid) order by a.duration desc\")\n",
    "print (joinedRDD.take(5))"
   ]
  },
  {
   "cell_type": "code",
   "execution_count": 14,
   "metadata": {
    "collapsed": false
   },
   "outputs": [
    {
     "name": "stdout",
     "output_type": "stream",
     "text": [
      "[Row(callerid='123826198', callingid='42792148', duration=7480.249, enddate=datetime.datetime(2015, 4, 1, 1, 48, 36, 203000), ignore='null', startdate=datetime.datetime(2015, 3, 31, 23, 43, 24, 186000))]\n"
     ]
    }
   ],
   "source": [
    "testRDD = sqlContext.sql(\"SELECT * FROM calldata a where a.callerid='123826198' order by a.duration desc\")\n",
    "print (testRDD.take(5))"
   ]
  },
  {
   "cell_type": "code",
   "execution_count": null,
   "metadata": {
    "collapsed": true
   },
   "outputs": [],
   "source": []
  }
 ],
 "metadata": {
  "kernelspec": {
   "display_name": "Python 3",
   "language": "python",
   "name": "python3"
  },
  "language_info": {
   "codemirror_mode": {
    "name": "ipython",
    "version": 3
   },
   "file_extension": ".py",
   "mimetype": "text/x-python",
   "name": "python",
   "nbconvert_exporter": "python",
   "pygments_lexer": "ipython3",
   "version": "3.4.3"
  }
 },
 "nbformat": 4,
 "nbformat_minor": 0
}
